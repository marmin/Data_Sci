{
 "cells": [
  {
   "cell_type": "markdown",
   "metadata": {},
   "source": [
    "1- What is the 1994 rate of juvenile delinquency in the U.S.?\n",
    "No, already known statistics\n",
    "\n",
    "2- What can we do to reduce juvenile delinquency in the U.S.?\n",
    "No, Vague\n",
    "\n",
    "3- Does education play a role in reducing juvenile delinquents' return to crime?\n",
    "Yes, \n",
    "\n",
    "4- How many customers does AT&T currently serve in Washington, DC?\n",
    "No, already known statistics\n",
    "\n",
    "5- What factors lead consumers to choose AT&T over other service providers?\n",
    "\n",
    "How can AT&T attract more customers?\n",
    "Why did the Challenger Shuttle explode?\n",
    "Which genes are associated with increased risk of breast cancer?\n",
    "Is it better to read to children at night or in the morning?\n",
    "How does Google’s search algorithm work?\n"
   ]
  }
 ],
 "metadata": {
  "kernelspec": {
   "display_name": "Python 3",
   "language": "python",
   "name": "python3"
  },
  "language_info": {
   "codemirror_mode": {
    "name": "ipython",
    "version": 3
   },
   "file_extension": ".py",
   "mimetype": "text/x-python",
   "name": "python",
   "nbconvert_exporter": "python",
   "pygments_lexer": "ipython3",
   "version": "3.6.2"
  }
 },
 "nbformat": 4,
 "nbformat_minor": 2
}
