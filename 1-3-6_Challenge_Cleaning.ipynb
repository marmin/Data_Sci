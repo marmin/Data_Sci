{
 "cells": [
  {
   "cell_type": "code",
   "execution_count": 8,
   "metadata": {},
   "outputs": [],
   "source": [
    "import pandas as pd\n",
    "import numpy as np\n",
    "import matplotlib.pyplot as plt"
   ]
  },
  {
   "cell_type": "markdown",
   "metadata": {},
   "source": [
    "- determine the five most common journals and the total articles for each. \n",
    "- calculate the mean, median, and standard deviation of the open-access cost per article for each journal\n",
    "- For a real bonus round, identify the open access prices paid by subject area"
   ]
  },
  {
   "cell_type": "code",
   "execution_count": 9,
   "metadata": {},
   "outputs": [],
   "source": [
    "df = pd.read_csv('/Users/Maryam/Desktop/Thinkful/projects/WELLCOME/WELLCOME_APCspend2013_forThinkful.csv',\n",
    "                encoding = \"ISO-8859-1\")"
   ]
  },
  {
   "cell_type": "code",
   "execution_count": 13,
   "metadata": {},
   "outputs": [],
   "source": [
    "df['Journal title'] = df['Journal title'].str.lower()\n",
    "# determine the five most common journals and the total articles for each\n",
    "df = df.rename(columns={'COST (£) charged to Wellcome (inc VAT when charged)':'Cost'})"
   ]
  },
  {
   "cell_type": "code",
   "execution_count": 15,
   "metadata": {},
   "outputs": [
    {
     "data": {
      "text/plain": [
       "count    2041.000000\n",
       "mean     1779.463856\n",
       "std       700.882062\n",
       "min         0.000000\n",
       "25%      1260.000000\n",
       "50%      1834.770000\n",
       "75%      2284.190000\n",
       "max      3904.460000\n",
       "Name: Cost, dtype: float64"
      ]
     },
     "execution_count": 15,
     "metadata": {},
     "output_type": "execute_result"
    }
   ],
   "source": [
    "df.Cost.describe()"
   ]
  },
  {
   "cell_type": "code",
   "execution_count": 11,
   "metadata": {},
   "outputs": [],
   "source": [
    "df.Cost = df.Cost.str.strip('£')\n",
    "df.Cost = df.Cost.str.strip('$')\n",
    "df.Cost = df.Cost.apply(lambda x: float(x))\n",
    "df = df[df.Cost < df.Cost.quantile(0.96)]"
   ]
  },
  {
   "cell_type": "code",
   "execution_count": null,
   "metadata": {},
   "outputs": [],
   "source": []
  },
  {
   "cell_type": "code",
   "execution_count": 12,
   "metadata": {},
   "outputs": [
    {
     "name": "stdout",
     "output_type": "stream",
     "text": [
      "Journal title\n",
      "journal of biological chemistry    411.954360\n",
      "neuroimage                         266.653947\n",
      "nucleic acids research             454.329372\n",
      "plos one                           201.847589\n",
      "plos pathogens                     161.780891\n",
      "Name: Cost, dtype: float64\n"
     ]
    }
   ],
   "source": [
    "top5 = list(df['Journal title'].value_counts()[0:5].index)\n",
    "top5_df=df.loc[df['Journal title'].isin(top5)]\n",
    "#print(top5_df.groupby('Journal title').Cost.mean())\n",
    "#print(top5_df.groupby('Journal title').Cost.median())\n",
    "print(top5_df.groupby('Journal title').Cost.std())"
   ]
  },
  {
   "cell_type": "code",
   "execution_count": null,
   "metadata": {},
   "outputs": [],
   "source": []
  },
  {
   "cell_type": "code",
   "execution_count": null,
   "metadata": {},
   "outputs": [],
   "source": [
    "\n",
    "\n"
   ]
  },
  {
   "cell_type": "code",
   "execution_count": null,
   "metadata": {},
   "outputs": [],
   "source": []
  },
  {
   "cell_type": "code",
   "execution_count": null,
   "metadata": {},
   "outputs": [],
   "source": []
  }
 ],
 "metadata": {
  "kernelspec": {
   "display_name": "Python 3",
   "language": "python",
   "name": "python3"
  },
  "language_info": {
   "codemirror_mode": {
    "name": "ipython",
    "version": 3
   },
   "file_extension": ".py",
   "mimetype": "text/x-python",
   "name": "python",
   "nbconvert_exporter": "python",
   "pygments_lexer": "ipython3",
   "version": "3.6.2"
  }
 },
 "nbformat": 4,
 "nbformat_minor": 2
}
