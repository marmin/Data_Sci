{
 "cells": [
  {
   "cell_type": "markdown",
   "metadata": {},
   "source": [
    "State whether a survey would be the best option for answering each of the following questions."
   ]
  },
  {
   "cell_type": "markdown",
   "metadata": {},
   "source": [
    "1. Popularity of various Uber drivers. \n",
    "\n",
    "Bad option\n",
    "\n",
    "2. A grocery store wants to know how much people like strawberry, chocolate, and vanilla ice cream. \n",
    "\n",
    "Bad option\n",
    "\n",
    "3. Trojan wants to know whether their condoms are more popular among straight people or gay people.\n",
    "\n",
    "good option\n",
    "\n",
    "4. Recently, rental rates for HappyCars have increased by 30%, which is quite unusual. You want to find out why this is happening and how to keep the increase going.  \n",
    "\n",
    "Bad option\n",
    "\n",
    "6. Assessing the success rate of a new advertising campaign. \n",
    "\n",
    "Bad option, better to use behavioural data\n",
    "\n",
    "7. Measuring the effect of nurse/patient ratio on patient recovery rates in hospital wards.\n",
    "\n",
    "Good option"
   ]
  },
  {
   "cell_type": "code",
   "execution_count": null,
   "metadata": {},
   "outputs": [],
   "source": []
  }
 ],
 "metadata": {
  "kernelspec": {
   "display_name": "Python 3",
   "language": "python",
   "name": "python3"
  },
  "language_info": {
   "codemirror_mode": {
    "name": "ipython",
    "version": 3
   },
   "file_extension": ".py",
   "mimetype": "text/x-python",
   "name": "python",
   "nbconvert_exporter": "python",
   "pygments_lexer": "ipython3",
   "version": "3.6.2"
  }
 },
 "nbformat": 4,
 "nbformat_minor": 2
}
