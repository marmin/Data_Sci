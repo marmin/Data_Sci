{
 "cells": [
  {
   "cell_type": "markdown",
   "metadata": {},
   "source": [
    "country: categorical\n",
    "\n",
    "idno: categorical\n",
    "\n",
    "year: categorical\n",
    "\n",
    "tvtot: ordinal \n",
    "\n",
    "ppltrst: ordinal\n",
    "\n",
    "pplfair: ordinal\n",
    "\n",
    "pplhlp: ordinal\n",
    "\n",
    "happy:  ordinal\n",
    "\n",
    "sclmeet: ordinal \n",
    "\n",
    "sclact: ordinal\n",
    "\n",
    "gndr: categorical\n",
    "agea: ratio\n",
    "partner: categorical\n"
   ]
  },
  {
   "cell_type": "code",
   "execution_count": null,
   "metadata": {},
   "outputs": [],
   "source": []
  }
 ],
 "metadata": {
  "kernelspec": {
   "display_name": "Python 3",
   "language": "python",
   "name": "python3"
  },
  "language_info": {
   "codemirror_mode": {
    "name": "ipython",
    "version": 3
   },
   "file_extension": ".py",
   "mimetype": "text/x-python",
   "name": "python",
   "nbconvert_exporter": "python",
   "pygments_lexer": "ipython3",
   "version": "3.6.2"
  }
 },
 "nbformat": 4,
 "nbformat_minor": 2
}
