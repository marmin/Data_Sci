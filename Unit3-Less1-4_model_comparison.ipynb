{
 "cells": [
  {
   "cell_type": "code",
   "execution_count": 29,
   "metadata": {},
   "outputs": [],
   "source": [
    "import numpy as np\n",
    "import matplotlib.pyplot as plt\n",
    "import pandas as pd\n",
    "%matplotlib inline"
   ]
  },
  {
   "cell_type": "code",
   "execution_count": 30,
   "metadata": {},
   "outputs": [
    {
     "name": "stderr",
     "output_type": "stream",
     "text": [
      "/Library/Frameworks/Python.framework/Versions/3.6/lib/python3.6/site-packages/ipykernel_launcher.py:18: SettingWithCopyWarning: \n",
      "A value is trying to be set on a copy of a slice from a DataFrame.\n",
      "Try using .loc[row_indexer,col_indexer] = value instead\n",
      "\n",
      "See the caveats in the documentation: http://pandas.pydata.org/pandas-docs/stable/indexing.html#indexing-view-versus-copy\n",
      "/Library/Frameworks/Python.framework/Versions/3.6/lib/python3.6/site-packages/ipykernel_launcher.py:19: SettingWithCopyWarning: \n",
      "A value is trying to be set on a copy of a slice from a DataFrame.\n",
      "Try using .loc[row_indexer,col_indexer] = value instead\n",
      "\n",
      "See the caveats in the documentation: http://pandas.pydata.org/pandas-docs/stable/indexing.html#indexing-view-versus-copy\n",
      "/Library/Frameworks/Python.framework/Versions/3.6/lib/python3.6/site-packages/ipykernel_launcher.py:20: SettingWithCopyWarning: \n",
      "A value is trying to be set on a copy of a slice from a DataFrame.\n",
      "Try using .loc[row_indexer,col_indexer] = value instead\n",
      "\n",
      "See the caveats in the documentation: http://pandas.pydata.org/pandas-docs/stable/indexing.html#indexing-view-versus-copy\n"
     ]
    }
   ],
   "source": [
    "# Working on FBI crime dataset, read the dataset\n",
    "df_crime = pd.read_excel('/Users/Maryam/Desktop/Thinkful/projects/table_8_offenses_known_to_law_enforcement_new_york_by_city_2013.xls',\n",
    "                             skiprows=4, skip_footer=5)\n",
    "\n",
    "\n",
    "# Do data cleaning\n",
    "df_crime_clean = df_crime.drop('Rape\\n(revised\\ndefinition)1', axis=1)\n",
    "df_crime_clean.columns = df_crime_clean.columns.str.replace('\\n',' ')\n",
    "df_crime_clean = df_crime_clean.rename(columns={'Murder and nonnegligent manslaughter':'Murder',\n",
    "                              'Rape (legacy definition)2':'Rape',\n",
    "                              })\n",
    "dfc = df_crime_clean\n",
    "dfc = dfc.drop('Arson3', axis=1)\n",
    "# Remove New York data\n",
    "dfc = dfc[dfc.City !='New York']\n",
    "\n",
    "dfc_f = dfc[['Population','Murder','Robbery','Property crime']]\n",
    "dfc_f['Murder'] = np.where(dfc_f['Murder'] > 0, 1,0)\n",
    "dfc_f['Robbery'] = np.where(dfc_f['Robbery']>0,1,0)\n",
    "dfc_f['Pop2'] = dfc_f['Population']**2"
   ]
  },
  {
   "cell_type": "code",
   "execution_count": null,
   "metadata": {},
   "outputs": [],
   "source": []
  },
  {
   "cell_type": "code",
   "execution_count": 39,
   "metadata": {},
   "outputs": [],
   "source": [
    "# OLS regression model\n",
    "from sklearn.linear_model import LinearRegression\n",
    "\n",
    "ols_regr = LinearRegression()\n",
    "X = dfc_f[['Pop2', 'Murder', 'Robbery']]\n",
    "Y = dfc_f['Property crime']\n",
    "\n",
    "ols_regr.fit(X,Y)\n",
    "ols_r = ols_regr.score(X,Y)"
   ]
  },
  {
   "cell_type": "code",
   "execution_count": 36,
   "metadata": {},
   "outputs": [
    {
     "name": "stdout",
     "output_type": "stream",
     "text": [
      "0.9275471811876366\n"
     ]
    }
   ],
   "source": [
    "# KNN regression model\n",
    "from sklearn.neighbors import KNeighborsRegressor\n",
    "\n",
    "knn_regr = KNeighborsRegressor(n_neighbors=3)\n",
    "X = dfc_f[['Pop2', 'Murder', 'Robbery']]\n",
    "Y = dfc_f['Property crime']\n",
    "\n",
    "knn_regr.fit(X,Y)\n",
    "print(knn_regr.score(X,Y))"
   ]
  },
  {
   "cell_type": "code",
   "execution_count": 42,
   "metadata": {},
   "outputs": [
    {
     "data": {
      "image/png": "[encoded data removed]",
      "text/plain": [
       "<matplotlib.figure.Figure at 0x115235240>"
      ]
     },
     "metadata": {},
     "output_type": "display_data"
    }
   ],
   "source": [
    "# Compare two models\n",
    "knn_rval = []\n",
    "\n",
    "for k in range(1,10):\n",
    "    knn_regr = KNeighborsRegressor(n_neighbors=k)\n",
    "    knn_regr.fit(X,Y)\n",
    "    knn_rval.append(knn_regr.score(X,Y))\n",
    "\n",
    "plt.plot(knn_rval)\n",
    "plt.axhline(ols_r, color='red')\n",
    "plt.show()"
   ]
  },
  {
   "cell_type": "markdown",
   "metadata": {},
   "source": [
    "Pros & cons:\n",
    "- Ols is a parametric approach, good when we have small number of observation\n",
    "- assumption for a linear functional form on the data\n"
   ]
  },
  {
   "cell_type": "code",
   "execution_count": null,
   "metadata": {},
   "outputs": [],
   "source": []
  }
 ],
 "metadata": {
  "kernelspec": {
   "display_name": "Python 3",
   "language": "python",
   "name": "python3"
  },
  "language_info": {
   "codemirror_mode": {
    "name": "ipython",
    "version": 3
   },
   "file_extension": ".py",
   "mimetype": "text/x-python",
   "name": "python",
   "nbconvert_exporter": "python",
   "pygments_lexer": "ipython3",
   "version": "3.6.2"
  }
 },
 "nbformat": 4,
 "nbformat_minor": 2
}
