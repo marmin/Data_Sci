{
 "cells": [
  {
   "cell_type": "markdown",
   "metadata": {},
   "source": [
    "For each of these scenarios decide if you could use supervised or unsupervised techniques, or both!\n",
    "\n",
    "- Define the likelihood that an individual will contract a specific disease\n",
    "\n",
    "supervised\n",
    "\n",
    "- Translate a set of images into variables for modeling\n",
    "\n",
    "unsupervised\n",
    "\n",
    "- An ecommerce company wants to identify power users\n",
    "\n",
    "Supervised\n",
    "\n",
    "- That same company wants to see shopping patterns in users\n",
    "\n",
    "unsupervised\n",
    "\n",
    "- You want to reduce the number of variables inputting into your random forest model\n",
    "\n",
    "unsupervised\n"
   ]
  },
  {
   "cell_type": "code",
   "execution_count": null,
   "metadata": {},
   "outputs": [],
   "source": []
  }
 ],
 "metadata": {
  "kernelspec": {
   "display_name": "Python 3",
   "language": "python",
   "name": "python3"
  },
  "language_info": {
   "codemirror_mode": {
    "name": "ipython",
    "version": 3
   },
   "file_extension": ".py",
   "mimetype": "text/x-python",
   "name": "python",
   "nbconvert_exporter": "python",
   "pygments_lexer": "ipython3",
   "version": "3.6.2"
  }
 },
 "nbformat": 4,
 "nbformat_minor": 2
}
